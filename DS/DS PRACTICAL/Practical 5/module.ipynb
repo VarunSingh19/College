{
 "cells": [
  {
   "cell_type": "code",
   "execution_count": null,
   "metadata": {},
   "outputs": [],
   "source": [
    "# prompt: Write a program in python to create a string using single, double and triple quotes.\n",
    "single_quote_string = 'This is a string using single quotes.'\n",
    "double_quote_string = \"This is a string using double quotes.\"\n",
    "triple_quote_string = \"\"\"This is a string using triple quotes.\n",
    "It can span multiple lines.\"\"\"\n",
    "print(single_quote_string)\n",
    "print(double_quote_string)\n",
    "print(triple_quote_string)"
   ]
  },
  {
   "cell_type": "code",
   "execution_count": null,
   "metadata": {},
   "outputs": [],
   "source": [
    "# prompt: Write a program to fetch characters from a string.\n",
    "print(triple_quote_string[0])\n",
    "print(triple_quote_string[1:5])\n",
    "print(triple_quote_string[-1])"
   ]
  },
  {
   "cell_type": "code",
   "execution_count": null,
   "metadata": {},
   "outputs": [],
   "source": [
    "# prompt: Print the range of string\n",
    "print(triple_quote_string[1:5])"
   ]
  },
  {
   "cell_type": "code",
   "execution_count": null,
   "metadata": {},
   "outputs": [],
   "source": [
    "# prompt: to perform concatenation of a string\n",
    "print(single_quote_string + double_quote_string)\n",
    "print(single_quote_string + \" \" + double_quote_string)"
   ]
  },
  {
   "cell_type": "code",
   "execution_count": null,
   "metadata": {},
   "outputs": [],
   "source": [
    "# prompt: Repetition of a string.\n",
    "print(single_quote_string * 3)\n",
    "print(single_quote_string + single_quote_string + single_quote_string)"
   ]
  },
  {
   "cell_type": "code",
   "execution_count": null,
   "metadata": {},
   "outputs": [],
   "source": [
    "# prompt: To check whether a string is mutable or not.\n",
    "a = \"A\",\"B\",\"C\"\n",
    "print(a)\n",
    "print(a[-1] = \"HELLO\")"
   ]
  },
  {
   "cell_type": "code",
   "execution_count": null,
   "metadata": {},
   "outputs": [],
   "source": [
    "# prompt: Use of capitalize() function.\n",
    "print(single_quote_string.capitalize())"
   ]
  },
  {
   "cell_type": "code",
   "execution_count": null,
   "metadata": {},
   "outputs": [],
   "source": [
    "# prompt: Use of find() function.\n",
    "print(single_quote_string.find('s'))\n",
    "print(single_quote_string.find('S'))\n",
    "print(single_quote_string.find('This'))\n",
    "print(single_quote_string.find('this'))"
   ]
  }
 ],
 "metadata": {
  "language_info": {
   "name": "python"
  }
 },
 "nbformat": 4,
 "nbformat_minor": 2
}
