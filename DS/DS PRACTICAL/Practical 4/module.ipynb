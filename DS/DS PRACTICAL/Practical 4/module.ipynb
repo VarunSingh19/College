{
 "cells": [
  {
   "cell_type": "code",
   "execution_count": 1,
   "metadata": {},
   "outputs": [
    {
     "name": "stdout",
     "output_type": "stream",
     "text": [
      "Dictionary Availabe : {'Tom': 20000, 'Alan': 50000, 'Max': 45000, 'Peter': 80000, 'John': 23900}\n"
     ]
    }
   ],
   "source": [
    "salary = {\n",
    "    'Tom':20000,\n",
    "    'Alan':50000,\n",
    "    'Max':45000,\n",
    "    'Peter':80000,\n",
    "    'John':23900,\n",
    "}\n",
    "print(\"Dictionary Availabe :\",salary)"
   ]
  },
  {
   "cell_type": "code",
   "execution_count": null,
   "metadata": {},
   "outputs": [],
   "source": [
    "# For getting highest salary\n",
    "print('EMployee Having highest salary :',max(salary,key=salary.get))"
   ]
  }
 ],
 "metadata": {
  "kernelspec": {
   "display_name": "Python 3",
   "language": "python",
   "name": "python3"
  },
  "language_info": {
   "codemirror_mode": {
    "name": "ipython",
    "version": 3
   },
   "file_extension": ".py",
   "mimetype": "text/x-python",
   "name": "python",
   "nbconvert_exporter": "python",
   "pygments_lexer": "ipython3",
   "version": "3.11.1"
  }
 },
 "nbformat": 4,
 "nbformat_minor": 2
}
